{
 "cells": [
  {
   "cell_type": "code",
   "execution_count": 3,
   "id": "8e095b8a",
   "metadata": {},
   "outputs": [
    {
     "data": {
      "text/html": [
       "<div>\n",
       "<style scoped>\n",
       "    .dataframe tbody tr th:only-of-type {\n",
       "        vertical-align: middle;\n",
       "    }\n",
       "\n",
       "    .dataframe tbody tr th {\n",
       "        vertical-align: top;\n",
       "    }\n",
       "\n",
       "    .dataframe thead th {\n",
       "        text-align: right;\n",
       "    }\n",
       "</style>\n",
       "<table border=\"1\" class=\"dataframe\">\n",
       "  <thead>\n",
       "    <tr style=\"text-align: right;\">\n",
       "      <th></th>\n",
       "      <th>Season</th>\n",
       "      <th>Rotten Tomatoes</th>\n",
       "      <th>Metacritic</th>\n",
       "    </tr>\n",
       "  </thead>\n",
       "  <tbody>\n",
       "    <tr>\n",
       "      <th>0</th>\n",
       "      <td>1</td>\n",
       "      <td>90% (224 reviews)[237]</td>\n",
       "      <td>80 (28 reviews)[238]</td>\n",
       "    </tr>\n",
       "    <tr>\n",
       "      <th>1</th>\n",
       "      <td>2</td>\n",
       "      <td>96% (304 reviews)[239]</td>\n",
       "      <td>90 (26 reviews)[240]</td>\n",
       "    </tr>\n",
       "    <tr>\n",
       "      <th>2</th>\n",
       "      <td>3</td>\n",
       "      <td>96% (419 reviews)[241]</td>\n",
       "      <td>91 (25 reviews)[242]</td>\n",
       "    </tr>\n",
       "    <tr>\n",
       "      <th>3</th>\n",
       "      <td>4</td>\n",
       "      <td>97% (571 reviews)[243]</td>\n",
       "      <td>94 (29 reviews)[244]</td>\n",
       "    </tr>\n",
       "    <tr>\n",
       "      <th>4</th>\n",
       "      <td>5</td>\n",
       "      <td>93% (574 reviews)[245]</td>\n",
       "      <td>91 (29 reviews)[246]</td>\n",
       "    </tr>\n",
       "    <tr>\n",
       "      <th>5</th>\n",
       "      <td>6</td>\n",
       "      <td>94% (667 reviews)[247]</td>\n",
       "      <td>73 (9 reviews)[248]</td>\n",
       "    </tr>\n",
       "    <tr>\n",
       "      <th>6</th>\n",
       "      <td>7</td>\n",
       "      <td>93% (418 reviews)[249]</td>\n",
       "      <td>77 (12 reviews)[250]</td>\n",
       "    </tr>\n",
       "    <tr>\n",
       "      <th>7</th>\n",
       "      <td>8</td>\n",
       "      <td>55% (699 reviews)[251]</td>\n",
       "      <td>75 (13 reviews)[252]</td>\n",
       "    </tr>\n",
       "  </tbody>\n",
       "</table>\n",
       "</div>"
      ],
      "text/plain": [
       "   Season         Rotten Tomatoes            Metacritic\n",
       "0       1  90% (224 reviews)[237]  80 (28 reviews)[238]\n",
       "1       2  96% (304 reviews)[239]  90 (26 reviews)[240]\n",
       "2       3  96% (419 reviews)[241]  91 (25 reviews)[242]\n",
       "3       4  97% (571 reviews)[243]  94 (29 reviews)[244]\n",
       "4       5  93% (574 reviews)[245]  91 (29 reviews)[246]\n",
       "5       6  94% (667 reviews)[247]   73 (9 reviews)[248]\n",
       "6       7  93% (418 reviews)[249]  77 (12 reviews)[250]\n",
       "7       8  55% (699 reviews)[251]  75 (13 reviews)[252]"
      ]
     },
     "execution_count": 3,
     "metadata": {},
     "output_type": "execute_result"
    }
   ],
   "source": [
    "import pandas as pd\n",
    "tabels = pd.read_html('https://en.wikipedia.org/wiki/Game_of_Thrones')\n",
    "len(tabels)\n",
    "tabels[4]"
   ]
  }
 ],
 "metadata": {
  "kernelspec": {
   "display_name": "Python 3",
   "language": "python",
   "name": "python3"
  },
  "language_info": {
   "codemirror_mode": {
    "name": "ipython",
    "version": 3
   },
   "file_extension": ".py",
   "mimetype": "text/x-python",
   "name": "python",
   "nbconvert_exporter": "python",
   "pygments_lexer": "ipython3",
   "version": "3.8.1"
  }
 },
 "nbformat": 4,
 "nbformat_minor": 5
}
